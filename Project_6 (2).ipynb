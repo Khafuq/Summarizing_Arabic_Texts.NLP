{
 "cells": [
  {
   "cell_type": "markdown",
   "metadata": {},
   "source": [
    "# Imports"
   ]
  },
  {
   "cell_type": "code",
   "execution_count": 1,
   "metadata": {},
   "outputs": [],
   "source": [
    "import pandas as pd\n",
    "from ruqiya import ruqiya\n",
    "import arabicstopwords.arabicstopwords as stp\n",
    "from pyarabic.araby import strip_tashkeel\n",
    "from spacy.lang.ar.stop_words import STOP_WORDS\n",
    "from string import punctuation\n",
    "from heapq import nlargest\n",
    "import plotly.graph_objects as go\n",
    "from sumy.parsers.plaintext import PlaintextParser\n",
    "from sumy.nlp.tokenizers import Tokenizer\n",
    "from sumy.summarizers.lsa import LsaSummarizer"
   ]
  },
  {
   "cell_type": "markdown",
   "metadata": {},
   "source": [
    "# EDA"
   ]
  },
  {
   "cell_type": "code",
   "execution_count": 42,
   "metadata": {},
   "outputs": [],
   "source": [
    "lsa = LsaSummarizer()\n",
    "df = pd.read_csv('arabic_reviews.csv')"
   ]
  },
  {
   "cell_type": "code",
   "execution_count": 3,
   "metadata": {},
   "outputs": [
    {
     "data": {
      "text/html": [
       "<div>\n",
       "<style scoped>\n",
       "    .dataframe tbody tr th:only-of-type {\n",
       "        vertical-align: middle;\n",
       "    }\n",
       "\n",
       "    .dataframe tbody tr th {\n",
       "        vertical-align: top;\n",
       "    }\n",
       "\n",
       "    .dataframe thead th {\n",
       "        text-align: right;\n",
       "    }\n",
       "</style>\n",
       "<table border=\"1\" class=\"dataframe\">\n",
       "  <thead>\n",
       "    <tr style=\"text-align: right;\">\n",
       "      <th></th>\n",
       "      <th>label</th>\n",
       "      <th>text</th>\n",
       "    </tr>\n",
       "  </thead>\n",
       "  <tbody>\n",
       "    <tr>\n",
       "      <th>0</th>\n",
       "      <td>Positive</td>\n",
       "      <td>ممتاز. البوفيه المفتوح رائع جدا سواء في الفطور...</td>\n",
       "    </tr>\n",
       "    <tr>\n",
       "      <th>1</th>\n",
       "      <td>Negative</td>\n",
       "      <td>كتاب حكم النبي محمد الذي كتبه الأديب الروائي ا...</td>\n",
       "    </tr>\n",
       "    <tr>\n",
       "      <th>2</th>\n",
       "      <td>Positive</td>\n",
       "      <td>معلومات تاريخية عن الثورة الإيرانية وما حدث في...</td>\n",
       "    </tr>\n",
       "    <tr>\n",
       "      <th>3</th>\n",
       "      <td>Negative</td>\n",
       "      <td>جلال أمين لم يجد إجابه للسؤال، فأخد يسرد لنا ق...</td>\n",
       "    </tr>\n",
       "    <tr>\n",
       "      <th>4</th>\n",
       "      <td>Positive</td>\n",
       "      <td>شقة ممتازة . أعجبني كل شيء وخاصة طاقم العمل..</td>\n",
       "    </tr>\n",
       "  </tbody>\n",
       "</table>\n",
       "</div>"
      ],
      "text/plain": [
       "      label                                               text\n",
       "0  Positive  ممتاز. البوفيه المفتوح رائع جدا سواء في الفطور...\n",
       "1  Negative  كتاب حكم النبي محمد الذي كتبه الأديب الروائي ا...\n",
       "2  Positive  معلومات تاريخية عن الثورة الإيرانية وما حدث في...\n",
       "3  Negative  جلال أمين لم يجد إجابه للسؤال، فأخد يسرد لنا ق...\n",
       "4  Positive      شقة ممتازة . أعجبني كل شيء وخاصة طاقم العمل.."
      ]
     },
     "execution_count": 3,
     "metadata": {},
     "output_type": "execute_result"
    }
   ],
   "source": [
    "df.head()"
   ]
  },
  {
   "cell_type": "markdown",
   "metadata": {},
   "source": [
    "# Data Cleaning"
   ]
  },
  {
   "cell_type": "code",
   "execution_count": 31,
   "metadata": {},
   "outputs": [],
   "source": [
    "def preprocess(text):\n",
    "  text=ruqiya.clean_text(text)\n",
    "  text=ruqiya.remove_repeating_char(text)\n",
    "  text=ruqiya.remove_punctuations(text)\n",
    "  text=ruqiya.normalize_arabic(text)\n",
    "  text=ruqiya.remove_stop_words(text)\n",
    "  text=ruqiya.remove_emojis(text)\n",
    "  return text"
   ]
  },
  {
   "cell_type": "code",
   "execution_count": 32,
   "metadata": {},
   "outputs": [],
   "source": [
    "df['text'].apply(str)\n",
    "df['Proccessed'] = df['text'].apply(preprocess)"
   ]
  },
  {
   "cell_type": "code",
   "execution_count": 33,
   "metadata": {},
   "outputs": [
    {
     "data": {
      "text/html": [
       "<div>\n",
       "<style scoped>\n",
       "    .dataframe tbody tr th:only-of-type {\n",
       "        vertical-align: middle;\n",
       "    }\n",
       "\n",
       "    .dataframe tbody tr th {\n",
       "        vertical-align: top;\n",
       "    }\n",
       "\n",
       "    .dataframe thead th {\n",
       "        text-align: right;\n",
       "    }\n",
       "</style>\n",
       "<table border=\"1\" class=\"dataframe\">\n",
       "  <thead>\n",
       "    <tr style=\"text-align: right;\">\n",
       "      <th></th>\n",
       "      <th>label</th>\n",
       "      <th>text</th>\n",
       "      <th>Proccessed</th>\n",
       "      <th>Sammurized</th>\n",
       "      <th>done?</th>\n",
       "    </tr>\n",
       "  </thead>\n",
       "  <tbody>\n",
       "    <tr>\n",
       "      <th>0</th>\n",
       "      <td>Positive</td>\n",
       "      <td>ممتاز. البوفيه المفتوح رائع جدا سواء في الفطور...</td>\n",
       "      <td>متاز البوفيه المفتوح راءع سواء الفطور السحور و...</td>\n",
       "      <td>ممتاز. البوفيه المفتوح رائع جدا سواء في الفطور...</td>\n",
       "      <td>Yes</td>\n",
       "    </tr>\n",
       "    <tr>\n",
       "      <th>1</th>\n",
       "      <td>Negative</td>\n",
       "      <td>كتاب حكم النبي محمد الذي كتبه الأديب الروائي ا...</td>\n",
       "      <td>كتاب حكم النبي محمد كتبه الاديب الرواءي الروسي...</td>\n",
       "      <td>ولكنه وعد بالكتابة عن النبي في كتاب كامل وللأس...</td>\n",
       "      <td>Yes</td>\n",
       "    </tr>\n",
       "    <tr>\n",
       "      <th>2</th>\n",
       "      <td>Positive</td>\n",
       "      <td>معلومات تاريخية عن الثورة الإيرانية وما حدث في...</td>\n",
       "      <td>معلومات تاريخيه الثوره الايرانيه بتفاصيل مله م...</td>\n",
       "      <td>معلومات تاريخية عن الثورة الإيرانية وما حدث في...</td>\n",
       "      <td>Yes</td>\n",
       "    </tr>\n",
       "    <tr>\n",
       "      <th>3</th>\n",
       "      <td>Negative</td>\n",
       "      <td>جلال أمين لم يجد إجابه للسؤال، فأخد يسرد لنا ق...</td>\n",
       "      <td>جلال يجد اجابه لسءال فاخد يسرد قصا تسوق استنتج...</td>\n",
       "      <td>فأخد يسرد لنا قصصا تسوق إستنتجات ليست منطقيه. ...</td>\n",
       "      <td>Yes</td>\n",
       "    </tr>\n",
       "    <tr>\n",
       "      <th>4</th>\n",
       "      <td>Positive</td>\n",
       "      <td>شقة ممتازة . أعجبني كل شيء وخاصة طاقم العمل..</td>\n",
       "      <td>شقه متازه اعجبني شيء وخاصه طاقم العمل</td>\n",
       "      <td>شقة ممتازة . أعجبني كل شيء وخاصة طاقم العمل..</td>\n",
       "      <td>Yes</td>\n",
       "    </tr>\n",
       "  </tbody>\n",
       "</table>\n",
       "</div>"
      ],
      "text/plain": [
       "      label                                               text  \\\n",
       "0  Positive  ممتاز. البوفيه المفتوح رائع جدا سواء في الفطور...   \n",
       "1  Negative  كتاب حكم النبي محمد الذي كتبه الأديب الروائي ا...   \n",
       "2  Positive  معلومات تاريخية عن الثورة الإيرانية وما حدث في...   \n",
       "3  Negative  جلال أمين لم يجد إجابه للسؤال، فأخد يسرد لنا ق...   \n",
       "4  Positive      شقة ممتازة . أعجبني كل شيء وخاصة طاقم العمل..   \n",
       "\n",
       "                                          Proccessed  \\\n",
       "0  متاز البوفيه المفتوح راءع سواء الفطور السحور و...   \n",
       "1  كتاب حكم النبي محمد كتبه الاديب الرواءي الروسي...   \n",
       "2  معلومات تاريخيه الثوره الايرانيه بتفاصيل مله م...   \n",
       "3  جلال يجد اجابه لسءال فاخد يسرد قصا تسوق استنتج...   \n",
       "4              شقه متازه اعجبني شيء وخاصه طاقم العمل   \n",
       "\n",
       "                                          Sammurized done?  \n",
       "0  ممتاز. البوفيه المفتوح رائع جدا سواء في الفطور...   Yes  \n",
       "1  ولكنه وعد بالكتابة عن النبي في كتاب كامل وللأس...   Yes  \n",
       "2  معلومات تاريخية عن الثورة الإيرانية وما حدث في...   Yes  \n",
       "3  فأخد يسرد لنا قصصا تسوق إستنتجات ليست منطقيه. ...   Yes  \n",
       "4      شقة ممتازة . أعجبني كل شيء وخاصة طاقم العمل..   Yes  "
      ]
     },
     "execution_count": 33,
     "metadata": {},
     "output_type": "execute_result"
    }
   ],
   "source": [
    "df.head()"
   ]
  },
  {
   "cell_type": "markdown",
   "metadata": {},
   "source": [
    "# Sammuraize"
   ]
  },
  {
   "cell_type": "code",
   "execution_count": 35,
   "metadata": {},
   "outputs": [],
   "source": [
    "def sammuraize(text):\n",
    "    parser = PlaintextParser.from_string(strip_tashkeel(text), Tokenizer(\"arabic\"))\n",
    "\n",
    "    summary = lsa(parser.document, 2)\n",
    "    \n",
    "    return ' '.join([str(sentence) for sentence in summary])"
   ]
  },
  {
   "cell_type": "code",
   "execution_count": 36,
   "metadata": {},
   "outputs": [
    {
     "name": "stderr",
     "output_type": "stream",
     "text": [
      "/Users/khaledzsa/anaconda3/lib/python3.11/site-packages/sumy/summarizers/lsa.py:76: UserWarning:\n",
      "\n",
      "Number of words (2) is lower than number of sentences (3). LSA algorithm may not work properly.\n",
      "\n",
      "/Users/khaledzsa/anaconda3/lib/python3.11/site-packages/sumy/summarizers/lsa.py:76: UserWarning:\n",
      "\n",
      "Number of words (1) is lower than number of sentences (2). LSA algorithm may not work properly.\n",
      "\n",
      "/Users/khaledzsa/anaconda3/lib/python3.11/site-packages/sumy/summarizers/lsa.py:76: UserWarning:\n",
      "\n",
      "Number of words (2) is lower than number of sentences (5). LSA algorithm may not work properly.\n",
      "\n",
      "/Users/khaledzsa/anaconda3/lib/python3.11/site-packages/sumy/summarizers/lsa.py:76: UserWarning:\n",
      "\n",
      "Number of words (2) is lower than number of sentences (4). LSA algorithm may not work properly.\n",
      "\n",
      "/Users/khaledzsa/anaconda3/lib/python3.11/site-packages/sumy/summarizers/lsa.py:76: UserWarning:\n",
      "\n",
      "Number of words (1) is lower than number of sentences (5). LSA algorithm may not work properly.\n",
      "\n",
      "/Users/khaledzsa/anaconda3/lib/python3.11/site-packages/sumy/summarizers/lsa.py:76: UserWarning:\n",
      "\n",
      "Number of words (1) is lower than number of sentences (3). LSA algorithm may not work properly.\n",
      "\n",
      "/Users/khaledzsa/anaconda3/lib/python3.11/site-packages/sumy/summarizers/lsa.py:76: UserWarning:\n",
      "\n",
      "Number of words (4) is lower than number of sentences (5). LSA algorithm may not work properly.\n",
      "\n",
      "/Users/khaledzsa/anaconda3/lib/python3.11/site-packages/sumy/summarizers/lsa.py:76: UserWarning:\n",
      "\n",
      "Number of words (3) is lower than number of sentences (4). LSA algorithm may not work properly.\n",
      "\n",
      "/Users/khaledzsa/anaconda3/lib/python3.11/site-packages/sumy/summarizers/lsa.py:76: UserWarning:\n",
      "\n",
      "Number of words (6) is lower than number of sentences (8). LSA algorithm may not work properly.\n",
      "\n",
      "/Users/khaledzsa/anaconda3/lib/python3.11/site-packages/sumy/summarizers/lsa.py:76: UserWarning:\n",
      "\n",
      "Number of words (5) is lower than number of sentences (18). LSA algorithm may not work properly.\n",
      "\n",
      "/Users/khaledzsa/anaconda3/lib/python3.11/site-packages/sumy/summarizers/lsa.py:76: UserWarning:\n",
      "\n",
      "Number of words (4) is lower than number of sentences (6). LSA algorithm may not work properly.\n",
      "\n",
      "/Users/khaledzsa/anaconda3/lib/python3.11/site-packages/sumy/summarizers/lsa.py:76: UserWarning:\n",
      "\n",
      "Number of words (8) is lower than number of sentences (11). LSA algorithm may not work properly.\n",
      "\n",
      "/Users/khaledzsa/anaconda3/lib/python3.11/site-packages/sumy/summarizers/lsa.py:76: UserWarning:\n",
      "\n",
      "Number of words (13) is lower than number of sentences (29). LSA algorithm may not work properly.\n",
      "\n",
      "/Users/khaledzsa/anaconda3/lib/python3.11/site-packages/sumy/summarizers/lsa.py:76: UserWarning:\n",
      "\n",
      "Number of words (9) is lower than number of sentences (10). LSA algorithm may not work properly.\n",
      "\n",
      "/Users/khaledzsa/anaconda3/lib/python3.11/site-packages/sumy/summarizers/lsa.py:76: UserWarning:\n",
      "\n",
      "Number of words (17) is lower than number of sentences (19). LSA algorithm may not work properly.\n",
      "\n",
      "/Users/khaledzsa/anaconda3/lib/python3.11/site-packages/sumy/summarizers/lsa.py:76: UserWarning:\n",
      "\n",
      "Number of words (7) is lower than number of sentences (8). LSA algorithm may not work properly.\n",
      "\n",
      "/Users/khaledzsa/anaconda3/lib/python3.11/site-packages/sumy/summarizers/lsa.py:76: UserWarning:\n",
      "\n",
      "Number of words (1) is lower than number of sentences (18). LSA algorithm may not work properly.\n",
      "\n",
      "/Users/khaledzsa/anaconda3/lib/python3.11/site-packages/sumy/summarizers/lsa.py:76: UserWarning:\n",
      "\n",
      "Number of words (5) is lower than number of sentences (6). LSA algorithm may not work properly.\n",
      "\n",
      "/Users/khaledzsa/anaconda3/lib/python3.11/site-packages/sumy/summarizers/lsa.py:76: UserWarning:\n",
      "\n",
      "Number of words (1) is lower than number of sentences (28). LSA algorithm may not work properly.\n",
      "\n",
      "/Users/khaledzsa/anaconda3/lib/python3.11/site-packages/sumy/summarizers/lsa.py:76: UserWarning:\n",
      "\n",
      "Number of words (6) is lower than number of sentences (9). LSA algorithm may not work properly.\n",
      "\n"
     ]
    }
   ],
   "source": [
    "df['Sammurized'] = df['text'].apply(lambda x: sammuraize(x))"
   ]
  },
  {
   "cell_type": "markdown",
   "metadata": {},
   "source": [
    "# Validate & Visualize"
   ]
  },
  {
   "cell_type": "code",
   "execution_count": 37,
   "metadata": {},
   "outputs": [],
   "source": [
    "def aboutsummariz(text:str):\n",
    "    if len(text)<1:\n",
    "        ans = 'No'\n",
    "    else:\n",
    "        ans = \"Yes\"\n",
    "    return ans"
   ]
  },
  {
   "cell_type": "code",
   "execution_count": 38,
   "metadata": {},
   "outputs": [],
   "source": [
    "df['done?'] = df['Sammurized'].apply(aboutsummariz)"
   ]
  },
  {
   "cell_type": "code",
   "execution_count": 39,
   "metadata": {},
   "outputs": [
    {
     "data": {
      "application/vnd.plotly.v1+json": {
       "config": {
        "plotlyServerURL": "https://plot.ly"
       },
       "data": [
        {
         "hole": 0.3,
         "labels": [
          "Yes",
          "No"
         ],
         "type": "pie",
         "values": [
          66663,
          3
         ]
        }
       ],
       "layout": {
        "template": {
         "data": {
          "bar": [
           {
            "error_x": {
             "color": "#2a3f5f"
            },
            "error_y": {
             "color": "#2a3f5f"
            },
            "marker": {
             "line": {
              "color": "#E5ECF6",
              "width": 0.5
             },
             "pattern": {
              "fillmode": "overlay",
              "size": 10,
              "solidity": 0.2
             }
            },
            "type": "bar"
           }
          ],
          "barpolar": [
           {
            "marker": {
             "line": {
              "color": "#E5ECF6",
              "width": 0.5
             },
             "pattern": {
              "fillmode": "overlay",
              "size": 10,
              "solidity": 0.2
             }
            },
            "type": "barpolar"
           }
          ],
          "carpet": [
           {
            "aaxis": {
             "endlinecolor": "#2a3f5f",
             "gridcolor": "white",
             "linecolor": "white",
             "minorgridcolor": "white",
             "startlinecolor": "#2a3f5f"
            },
            "baxis": {
             "endlinecolor": "#2a3f5f",
             "gridcolor": "white",
             "linecolor": "white",
             "minorgridcolor": "white",
             "startlinecolor": "#2a3f5f"
            },
            "type": "carpet"
           }
          ],
          "choropleth": [
           {
            "colorbar": {
             "outlinewidth": 0,
             "ticks": ""
            },
            "type": "choropleth"
           }
          ],
          "contour": [
           {
            "colorbar": {
             "outlinewidth": 0,
             "ticks": ""
            },
            "colorscale": [
             [
              0,
              "#0d0887"
             ],
             [
              0.1111111111111111,
              "#46039f"
             ],
             [
              0.2222222222222222,
              "#7201a8"
             ],
             [
              0.3333333333333333,
              "#9c179e"
             ],
             [
              0.4444444444444444,
              "#bd3786"
             ],
             [
              0.5555555555555556,
              "#d8576b"
             ],
             [
              0.6666666666666666,
              "#ed7953"
             ],
             [
              0.7777777777777778,
              "#fb9f3a"
             ],
             [
              0.8888888888888888,
              "#fdca26"
             ],
             [
              1,
              "#f0f921"
             ]
            ],
            "type": "contour"
           }
          ],
          "contourcarpet": [
           {
            "colorbar": {
             "outlinewidth": 0,
             "ticks": ""
            },
            "type": "contourcarpet"
           }
          ],
          "heatmap": [
           {
            "colorbar": {
             "outlinewidth": 0,
             "ticks": ""
            },
            "colorscale": [
             [
              0,
              "#0d0887"
             ],
             [
              0.1111111111111111,
              "#46039f"
             ],
             [
              0.2222222222222222,
              "#7201a8"
             ],
             [
              0.3333333333333333,
              "#9c179e"
             ],
             [
              0.4444444444444444,
              "#bd3786"
             ],
             [
              0.5555555555555556,
              "#d8576b"
             ],
             [
              0.6666666666666666,
              "#ed7953"
             ],
             [
              0.7777777777777778,
              "#fb9f3a"
             ],
             [
              0.8888888888888888,
              "#fdca26"
             ],
             [
              1,
              "#f0f921"
             ]
            ],
            "type": "heatmap"
           }
          ],
          "heatmapgl": [
           {
            "colorbar": {
             "outlinewidth": 0,
             "ticks": ""
            },
            "colorscale": [
             [
              0,
              "#0d0887"
             ],
             [
              0.1111111111111111,
              "#46039f"
             ],
             [
              0.2222222222222222,
              "#7201a8"
             ],
             [
              0.3333333333333333,
              "#9c179e"
             ],
             [
              0.4444444444444444,
              "#bd3786"
             ],
             [
              0.5555555555555556,
              "#d8576b"
             ],
             [
              0.6666666666666666,
              "#ed7953"
             ],
             [
              0.7777777777777778,
              "#fb9f3a"
             ],
             [
              0.8888888888888888,
              "#fdca26"
             ],
             [
              1,
              "#f0f921"
             ]
            ],
            "type": "heatmapgl"
           }
          ],
          "histogram": [
           {
            "marker": {
             "pattern": {
              "fillmode": "overlay",
              "size": 10,
              "solidity": 0.2
             }
            },
            "type": "histogram"
           }
          ],
          "histogram2d": [
           {
            "colorbar": {
             "outlinewidth": 0,
             "ticks": ""
            },
            "colorscale": [
             [
              0,
              "#0d0887"
             ],
             [
              0.1111111111111111,
              "#46039f"
             ],
             [
              0.2222222222222222,
              "#7201a8"
             ],
             [
              0.3333333333333333,
              "#9c179e"
             ],
             [
              0.4444444444444444,
              "#bd3786"
             ],
             [
              0.5555555555555556,
              "#d8576b"
             ],
             [
              0.6666666666666666,
              "#ed7953"
             ],
             [
              0.7777777777777778,
              "#fb9f3a"
             ],
             [
              0.8888888888888888,
              "#fdca26"
             ],
             [
              1,
              "#f0f921"
             ]
            ],
            "type": "histogram2d"
           }
          ],
          "histogram2dcontour": [
           {
            "colorbar": {
             "outlinewidth": 0,
             "ticks": ""
            },
            "colorscale": [
             [
              0,
              "#0d0887"
             ],
             [
              0.1111111111111111,
              "#46039f"
             ],
             [
              0.2222222222222222,
              "#7201a8"
             ],
             [
              0.3333333333333333,
              "#9c179e"
             ],
             [
              0.4444444444444444,
              "#bd3786"
             ],
             [
              0.5555555555555556,
              "#d8576b"
             ],
             [
              0.6666666666666666,
              "#ed7953"
             ],
             [
              0.7777777777777778,
              "#fb9f3a"
             ],
             [
              0.8888888888888888,
              "#fdca26"
             ],
             [
              1,
              "#f0f921"
             ]
            ],
            "type": "histogram2dcontour"
           }
          ],
          "mesh3d": [
           {
            "colorbar": {
             "outlinewidth": 0,
             "ticks": ""
            },
            "type": "mesh3d"
           }
          ],
          "parcoords": [
           {
            "line": {
             "colorbar": {
              "outlinewidth": 0,
              "ticks": ""
             }
            },
            "type": "parcoords"
           }
          ],
          "pie": [
           {
            "automargin": true,
            "type": "pie"
           }
          ],
          "scatter": [
           {
            "fillpattern": {
             "fillmode": "overlay",
             "size": 10,
             "solidity": 0.2
            },
            "type": "scatter"
           }
          ],
          "scatter3d": [
           {
            "line": {
             "colorbar": {
              "outlinewidth": 0,
              "ticks": ""
             }
            },
            "marker": {
             "colorbar": {
              "outlinewidth": 0,
              "ticks": ""
             }
            },
            "type": "scatter3d"
           }
          ],
          "scattercarpet": [
           {
            "marker": {
             "colorbar": {
              "outlinewidth": 0,
              "ticks": ""
             }
            },
            "type": "scattercarpet"
           }
          ],
          "scattergeo": [
           {
            "marker": {
             "colorbar": {
              "outlinewidth": 0,
              "ticks": ""
             }
            },
            "type": "scattergeo"
           }
          ],
          "scattergl": [
           {
            "marker": {
             "colorbar": {
              "outlinewidth": 0,
              "ticks": ""
             }
            },
            "type": "scattergl"
           }
          ],
          "scattermapbox": [
           {
            "marker": {
             "colorbar": {
              "outlinewidth": 0,
              "ticks": ""
             }
            },
            "type": "scattermapbox"
           }
          ],
          "scatterpolar": [
           {
            "marker": {
             "colorbar": {
              "outlinewidth": 0,
              "ticks": ""
             }
            },
            "type": "scatterpolar"
           }
          ],
          "scatterpolargl": [
           {
            "marker": {
             "colorbar": {
              "outlinewidth": 0,
              "ticks": ""
             }
            },
            "type": "scatterpolargl"
           }
          ],
          "scatterternary": [
           {
            "marker": {
             "colorbar": {
              "outlinewidth": 0,
              "ticks": ""
             }
            },
            "type": "scatterternary"
           }
          ],
          "surface": [
           {
            "colorbar": {
             "outlinewidth": 0,
             "ticks": ""
            },
            "colorscale": [
             [
              0,
              "#0d0887"
             ],
             [
              0.1111111111111111,
              "#46039f"
             ],
             [
              0.2222222222222222,
              "#7201a8"
             ],
             [
              0.3333333333333333,
              "#9c179e"
             ],
             [
              0.4444444444444444,
              "#bd3786"
             ],
             [
              0.5555555555555556,
              "#d8576b"
             ],
             [
              0.6666666666666666,
              "#ed7953"
             ],
             [
              0.7777777777777778,
              "#fb9f3a"
             ],
             [
              0.8888888888888888,
              "#fdca26"
             ],
             [
              1,
              "#f0f921"
             ]
            ],
            "type": "surface"
           }
          ],
          "table": [
           {
            "cells": {
             "fill": {
              "color": "#EBF0F8"
             },
             "line": {
              "color": "white"
             }
            },
            "header": {
             "fill": {
              "color": "#C8D4E3"
             },
             "line": {
              "color": "white"
             }
            },
            "type": "table"
           }
          ]
         },
         "layout": {
          "annotationdefaults": {
           "arrowcolor": "#2a3f5f",
           "arrowhead": 0,
           "arrowwidth": 1
          },
          "autotypenumbers": "strict",
          "coloraxis": {
           "colorbar": {
            "outlinewidth": 0,
            "ticks": ""
           }
          },
          "colorscale": {
           "diverging": [
            [
             0,
             "#8e0152"
            ],
            [
             0.1,
             "#c51b7d"
            ],
            [
             0.2,
             "#de77ae"
            ],
            [
             0.3,
             "#f1b6da"
            ],
            [
             0.4,
             "#fde0ef"
            ],
            [
             0.5,
             "#f7f7f7"
            ],
            [
             0.6,
             "#e6f5d0"
            ],
            [
             0.7,
             "#b8e186"
            ],
            [
             0.8,
             "#7fbc41"
            ],
            [
             0.9,
             "#4d9221"
            ],
            [
             1,
             "#276419"
            ]
           ],
           "sequential": [
            [
             0,
             "#0d0887"
            ],
            [
             0.1111111111111111,
             "#46039f"
            ],
            [
             0.2222222222222222,
             "#7201a8"
            ],
            [
             0.3333333333333333,
             "#9c179e"
            ],
            [
             0.4444444444444444,
             "#bd3786"
            ],
            [
             0.5555555555555556,
             "#d8576b"
            ],
            [
             0.6666666666666666,
             "#ed7953"
            ],
            [
             0.7777777777777778,
             "#fb9f3a"
            ],
            [
             0.8888888888888888,
             "#fdca26"
            ],
            [
             1,
             "#f0f921"
            ]
           ],
           "sequentialminus": [
            [
             0,
             "#0d0887"
            ],
            [
             0.1111111111111111,
             "#46039f"
            ],
            [
             0.2222222222222222,
             "#7201a8"
            ],
            [
             0.3333333333333333,
             "#9c179e"
            ],
            [
             0.4444444444444444,
             "#bd3786"
            ],
            [
             0.5555555555555556,
             "#d8576b"
            ],
            [
             0.6666666666666666,
             "#ed7953"
            ],
            [
             0.7777777777777778,
             "#fb9f3a"
            ],
            [
             0.8888888888888888,
             "#fdca26"
            ],
            [
             1,
             "#f0f921"
            ]
           ]
          },
          "colorway": [
           "#636efa",
           "#EF553B",
           "#00cc96",
           "#ab63fa",
           "#FFA15A",
           "#19d3f3",
           "#FF6692",
           "#B6E880",
           "#FF97FF",
           "#FECB52"
          ],
          "font": {
           "color": "#2a3f5f"
          },
          "geo": {
           "bgcolor": "white",
           "lakecolor": "white",
           "landcolor": "#E5ECF6",
           "showlakes": true,
           "showland": true,
           "subunitcolor": "white"
          },
          "hoverlabel": {
           "align": "left"
          },
          "hovermode": "closest",
          "mapbox": {
           "style": "light"
          },
          "paper_bgcolor": "white",
          "plot_bgcolor": "#E5ECF6",
          "polar": {
           "angularaxis": {
            "gridcolor": "white",
            "linecolor": "white",
            "ticks": ""
           },
           "bgcolor": "#E5ECF6",
           "radialaxis": {
            "gridcolor": "white",
            "linecolor": "white",
            "ticks": ""
           }
          },
          "scene": {
           "xaxis": {
            "backgroundcolor": "#E5ECF6",
            "gridcolor": "white",
            "gridwidth": 2,
            "linecolor": "white",
            "showbackground": true,
            "ticks": "",
            "zerolinecolor": "white"
           },
           "yaxis": {
            "backgroundcolor": "#E5ECF6",
            "gridcolor": "white",
            "gridwidth": 2,
            "linecolor": "white",
            "showbackground": true,
            "ticks": "",
            "zerolinecolor": "white"
           },
           "zaxis": {
            "backgroundcolor": "#E5ECF6",
            "gridcolor": "white",
            "gridwidth": 2,
            "linecolor": "white",
            "showbackground": true,
            "ticks": "",
            "zerolinecolor": "white"
           }
          },
          "shapedefaults": {
           "line": {
            "color": "#2a3f5f"
           }
          },
          "ternary": {
           "aaxis": {
            "gridcolor": "white",
            "linecolor": "white",
            "ticks": ""
           },
           "baxis": {
            "gridcolor": "white",
            "linecolor": "white",
            "ticks": ""
           },
           "bgcolor": "#E5ECF6",
           "caxis": {
            "gridcolor": "white",
            "linecolor": "white",
            "ticks": ""
           }
          },
          "title": {
           "x": 0.05
          },
          "xaxis": {
           "automargin": true,
           "gridcolor": "white",
           "linecolor": "white",
           "ticks": "",
           "title": {
            "standoff": 15
           },
           "zerolinecolor": "white",
           "zerolinewidth": 2
          },
          "yaxis": {
           "automargin": true,
           "gridcolor": "white",
           "linecolor": "white",
           "ticks": "",
           "title": {
            "standoff": 15
           },
           "zerolinecolor": "white",
           "zerolinewidth": 2
          }
         }
        }
       }
      }
     },
     "metadata": {},
     "output_type": "display_data"
    }
   ],
   "source": [
    "val = dict(df['done?'].value_counts())\n",
    "labels = list(val.keys())\n",
    "values = list(val.values())\n",
    "fig = go.Figure(data=[go.Pie(labels=labels, values=values, hole=.3)])\n",
    "\n",
    "fig.show()"
   ]
  },
  {
   "cell_type": "code",
   "execution_count": 40,
   "metadata": {},
   "outputs": [
    {
     "name": "stdout",
     "output_type": "stream",
     "text": [
      "Sammurized:  282\n",
      "========================================\n",
      "Original 8063\n"
     ]
    }
   ],
   "source": [
    "print(\"Sammurized: \", len(df['Sammurized'][169]))\n",
    "print(\"========================================\")\n",
    "print(\"Original\", len(df['text'][169]))"
   ]
  },
  {
   "cell_type": "code",
   "execution_count": 41,
   "metadata": {},
   "outputs": [
    {
     "name": "stdout",
     "output_type": "stream",
     "text": [
      "Sammurized:  لا يمكن إنكار حقيقة جودة اللغة التي كتبت فيها الرواية رغم وجود بعض اللكنة الفرنسية لكن هذا أمر مفهوم لتأثر الكاتب بالثقافة الفرنكوفونية. ولربما تأثر الكاتب خطا بالفترة الأولى من نظرية التحليل النفسي لفرويد حيث كان يعيد كل شيء للدافع الجنسي أو حدث جنسي ما تعرض له المرء أثناء طفولته.\n",
      "========================================\n",
      "Original الطلياني شكري المبخوت. شكري المبخوت هو كاتب تونسي ورئيس جامعة منوبة التونسية.. له عدة مؤلفات سابقة: سيرة الغائب، وسيرة الآتي وكتاب: جمالية الألفة: النص ومتقبله في التراث النقدي وكتاب: نظرية الأعمال اللغوية .. الطلياني هي أول رواية للمبخوت.. وهي تتحدث عن الشاب عبد الناصر والذي التصقت به كنية الطلياني نظرا لوسامته.. في الواقع هي تتحدث عن سرد في صفحة عن السبب الذي دعا عبد الناصر لضرب الإمام علالة أثناء دفن والده الحاج محمود في حادثة فضائحية لا تنسى في جنازة الشيخ الجليل ومرموق الصيت محمود والد عبد الناصر. وقد تحصلت هذه الرواية على جائزة البوكر لعام .. لا يمكن إنكار حقيقة جودة اللغة التي كتبت فيها الرواية رغم وجود بعض اللكنة الفرنسية لكن هذا أمر مفهوم لتأثر الكاتب بالثقافة الفرنكوفونية.. بدأت الرواية بذلك الحدث الفضائحي الذي قام به عبد الناصر في جنازة والده.. وعدم معرفة أحد بذلك السبب الذي دعاه للقيام به.. وقد كان الراوي هو أحد أصدقاء عبد الناصر وهو الذي أتم سرد الحكاية ولنا عودة فيما يخص الراوي.. يبدأ الراوي بالسرد منذ البدايات.. حيث طفولة عبد الناصر ويبدو ذلك منطقيا في أساسيات التحليل النفسي التي تعول كثيرا على فترة الطفولة.. ولربما تأثر الكاتب خطا بالفترة الأولى من نظرية التحليل النفسي لفرويد حيث كان يعيد كل شيء للدافع الجنسي أو حدث جنسي ما تعرض له المرء أثناء طفولته. على أي حال، تابع الراوي سرده إلى الجامعة حيث كان عبد الناصر أحد القادة لتنظيم يساري.. وهناك تعرف على زينة تلك الفتاة البربرية الريفية المتمردة اليسارية حتى النخاع.. زينة لم تكن تروتسكية كما كان الجميع يعتقد في الرواية لكن كانت لها نظرة للمثقف فتقول: المثقف عندي من ينقد دون حسابات. ينقد كل شيء. يطلق النار على كل ما يتحرك.. يطرح الأزمات بالسؤال والإستفهام. يخلخل السائد. ولذلك كانت تنتقد كل شيء؛ الإسلاميين أولا.. ثم زملاءها اليساريين.. هي لم تكن تنتمي لتنظيم معين ونظرا للسانها اللاذع ومنطقها الجدلي الذي لا يقهر.. عدها قادة اليسار عدوا لا بد من التخلص منه حتى وإن كان يقف على الحياد. وكان لعبد الناصر المناهض للعنف ذات المخاطر لأنه لم يستطع أن يجد للعنف مبررا.. فجعله ذلك رغما عنه في صف واحد مع زينة ضد الجميع. ولعلنا هنا نجد بهذه البيئة ما يذكرنا بجورج أورويل اليساري كذلك والذي توصل لخلاصة وضعها في مزرعة الحيوان و فيما بعد حياته السياسية النضالية إن جاز لنا قول ذلك مع اليسار. ومن الجدير بالذكر هنا أن أورويل كان إشتراكيا ديمقراطيا وكان على ما يبدو متأثرا بتروتسكي وأفكاره حتى صوره بشخصية سنوبول في مزرعة الحيوان.. إنه الشخص المفكر النشيط المنظر الحقيقي للثورة اليسارية المنتظرة. كما أن أورويل قد خلص إلى طبيعة النهاية الإستبدادية في روايتيه وهي ذاتها التي صورها لنا المبخوت في الطلياني.. عبد الناصر/ الطلياني كان وسيما بشكل لا يقاوم.. حتى لفتاة متمردة على طراز سيمون دي بوفوار.. ولربما كان تفهمه لأفكارها وإعجابه بتمردها أثر أكبر في إنتاج إعجاب متبادل. وهنا لا يمكنني أن أتجاهل بعض النقاط لأعلق عليها:. مشهد دخول الأمن على جامعة منوبة وهما في زيارة لها حيث كان الإسلاميون يقومون ببعض التظاهرات وتدخل الأمن لفضها بالعنف والمثير هنا هو عندما هاجم الأمن زينة والطلياني فاحتمت زينة بظهر الطلياني ثم وبعد أن طرحا أرضا ألقى الطلياني نفسه فوق زينة لحمايتها تاركا ظهره لهراوات الأمن فما كان من زينة إلا أن تقوم بتقبيله على عنقه عدة قبلات ثم تتوقف في قبلة محمومة عندما تصل لشفتيه بينما تتوالى ضربات الأمن على ظهره ومؤخرته وساقيه. حقيقة لم أجد أي تفسير عقلاني أو نفساني لهذا السلوك فيما قدمه الكاتب عن هذه الشخصية في الرواية. زينة فتاة متمردة.. تعرضت للإغتصاب وهي طفلة من قبل ودبر وهذا داع أكبر كي تشعر بالنفور من الرجال وهو كذلك يبرر أفكارها التحررية في نموذج مقارب للغاية لسيمون دي بوفوار. لكن، وكما كانت تماما في هذه الرواية شخصية براغماتية تامة. قامت باستغلال الطلياني على أتم وجه. وقبل أن يتعرضا لهجمة الأمن هذه كادت أن تقدم نفسها للفرنسي إريك في الفندق لولا أن كانت حائضا يومها. ولذلك حقيقة لست أفهم أبدا المبرر النفسي لسلوكها هذا يومها. قد يكون الشعور بالأمان.. لكن أخشى أن هذا المبرر ليس كافيا في ظل الخلفية النفسية التي أشرنا إليها سابقا. كان من اللائق جدا أن يضع لنا المبخوت تبريرا ما أيا كان لهذا السلوك لزينة في الرواية.. لنتقدم سريعا إلى الأمام في الحكاية.. عندما اضطرت زينة للزواج/أو الصداق من عبد الناصر.. ظلت تضع طموحها نصب عينيها.. وذلك بلا ريب ليس عيبا.. لكن، المشكلة أنها لم تنظر أبدا لناصر كزوج أو حتى كند.. كان تحب أن تشعر أنها في حمايته في تجسيد لمفهوم الأمان الذي تحتاج إليه أي إمرأة.. لكنها في المقابل لم تكن تشعر بالإلتزام العاطفي في إرضائه. كانت باختصار مهملة اتجاهه.. بينما كان هو ملجأها الأخير في إزالة العقبات من طريقها. أجل، لم يقاوم نزوة أنجيليكا في سويسرا عندما زارا أخاه صلاح الدين.. وكانت أنجيليكا أخت زوجة صلاح. إنه لم يوقفها.. بل رحب بها وشرب الكأس عن آخره. رغم أنهما كانا ناصر وزينة حديثي العهد بالزواج.. هل أحب ناصر زينة ؟ نعم، بلا شك. رغم خياناته المتكررة.. ونرى ذلك واضحا وجليا عندما تركته زينة في نهاية الأمر وسافرت إلى فرنسا لتعيش في كنف إريك.. العجوز المتصابي. لم تعد النساء أكثر من شيء يقضي فيه وطره في عيني ناصر.. خاصة بعد انهيار علاقته مع نجلاء. وهنا لا بد لي من وقفة أخرى:. نجلاء صديقة زينة، ومن خلال زينة تعرف ناصر إليها. هي إمرأة مطلقة وقد تطلقت لسببين؛ الأول لكون زوجها خادم مطيع لأمه.. والثاني لكون زوجها طويل الأمد قبل القذف . ما يهم هو أنها وبعد طلاقها لم تعد تود أن تفقد حريتها أبدا في زواج جديد. ولهذا لم تكن تطمح بالإلتزام من ناصر. بينما كان ناصر يرغب في الزواج منها وقد يبرر هذا السلوك من ناصر أنه لم يكن يشعر بالأمان في علاقته مع زوجته زينة التي كانت تكرر دوما له أن ما بينهما ليس زواجا إنما صداق.. بكلمات أخرى إتفاق إجتماعي على التعايش.. لا أكثر.. فهو ليس سيدها وهي ليست سيدته.. لربما كانت علاقته مع نجلاء نوعا من التمرد لناصر على زينة. بينما كانت زينة لا تحتاج للتمرد على ناصر.. لربما كانت زينة من الأنانية أنها لم تكن تنظر لناصر أكثر من كونه مرحلة ما في حياتها... لا بد لي من التعريض بذلك المشهد عندما قامت نجلاء بتعليم زينة طرق الإغواء وإظهار أنوثتها.. لزوجها لتبهير حياتهما.. وذلك عندما شكت زينة في خيانة زوجها لها عندما وجدت سلسلة نجلاء في بيتها. وقد بررت نجلاء لناصر فعلها هذا أي مساعدة زينة في أنها كأي إمرأة تحب أن تغار على حبيبها وهي تود أن تجعل من زينة خصما جديرا بأن تغار منه عجبا، لكن هل يوجد شيء كهذا في الواقع ؟ لو أن الراوي جعل نجلاء مضطرة لهذا الفعل كي تزيل الشبهات عن نفسها لكان ذلك مقنعا اكثر. قد نجد بعض المبررات التي تقول إنها حكاية حقيقية.. لكنها حتى وإن كانت كذلك.. فإن الحدث الروائي يبدأ من الواقع لكنه بكل تأكيد يجب ألا ينتهي إليه. وعليه فإنه من اللازم على الكاتب أن يخلق المبررات بناء على الخلفية النفسية للشخصية الروائية.. ولم أجد هذا السلوك منسجما مع شخصية نجلاء على الإطلاق.. هل أحبت زينة ناصر ؟ لربما فعلت.. لكن، كيف نفسر إبقاءها على إريك على خلفية الصداقة أو الزمالة المهنية.. ومن المهم هنا أن نبرز نقطة سن إريك فهو رجل ستيني وعالم مرموق في مجاله.. بينما كانت زينة في ال من عمرها فلا ريب لرجل مثله من أن يتعلق بإمرأة مثلها تشعره بأنه لا يزال يمتلك رجولة ما لا تزال بشكل أو بآخر قادرة على جذب فتاة مثلها. بينما كانت زينة ككثيرات مثلها ترى في إريك منفذا منفسا لعقدة الخواجة.. إنه فرنسي، فلا بد إذن أن يكون متفهما.. لا بد أن يعطيني حريتي.. وهي لم تعامله بطريقة أفضل مما كانت تعامل ناصر فيها بل إنها كانت تتعمد الإستخفاف به أمام الناس بينما كان إريك ينظر إليها أثناء ذلك بعين الإعجاب . الرواية مليئة بالكلام عن السياسة ومعظمه معدوم القيمة فلم تكن ثمة أهمية أبدا للعمل الطلابي السياسي سوى وقوع أبطال الرواية في المشاكل.. وكانت بعض الحوارات بين سي عبد الحميد وناصر تكشف بعضا من الأهمية لتلك الحقبة ما بين البورقيبية وبن علي. ناهيك عما تحدثنا عنه سابقا من مفارقة الواقع اليساري مع ما توصل إليه جورج أورويل من قبل. عدا عن ذلك لم يكن الحديث السياسي في الرواية سوى المزيد من الحشو.. من العجائب كذلك كل تلك المشاهد الإباحية التي لا أهمية لها في سياق الرواية عدا عن الإثارة.. والأهم من ذلك كله.. أن الراوي هو صديق ناصر. فكيف إطلع على كل هذه التفاصيل وأدقها من الممارسة الجنسية لناصر مع جنينة وزينة ونجلاء.. ونحن لا نتحدث عن قبلة.. أو حضن.. بل مشاهد كاملة.. من أين له الإطلاع على كل ذلك، هل كان يشاهدهم ؟ أعلم أنه قد ورد استخدام مثل هذا النوع من الراوي في روايات شهيرة من الأدب العالمي.. لكن ذلك لن يغير من حقيقة كونه عيب فني في بنية الرواية.. وقد قلل كنتيجة مباشرة من عامل الإقناع.. ثم كانت الخاتمة المفاجئة عندما تذكر ناصر فجأة حادثة الطفولة عندما حاول علالة العنين أن يعتدي عليه أو بالأحرى كان يحاول أن يتدرب عليه شيئا من رجولته الضائعة لكن هيهات أتمازحني يا رجل ؟ هل كانت كل هذه الثورة الجنونية من ناصر لأن رجلا عنينا كان يحك حبله المرتخي فيه ؟ ماذا عسانا نقول عن زينة إذن ؟ لقد تعرضت زينة للإغتصاب بكل ما تحمله الكلمة من معنى.. وليس مجرد حك حبل مرتخي ثم أن ناصر قد نال ثأره وبجدارة تتمثل بسنين من التدريب الجنسي على يد زوجة علالة نفسه جنينة ألم يكن ذلك ثمنا كافيا ؟ لم يكن هذا المبرر منطقيا إطلاقا بل\n"
     ]
    }
   ],
   "source": [
    "print(\"Sammurized: \", df['Sammurized'][169])\n",
    "print(\"========================================\")\n",
    "print(\"Original\", df['text'][169])"
   ]
  }
 ],
 "metadata": {
  "kernelspec": {
   "display_name": "Python 3",
   "language": "python",
   "name": "python3"
  },
  "language_info": {
   "codemirror_mode": {
    "name": "ipython",
    "version": 3
   },
   "file_extension": ".py",
   "mimetype": "text/x-python",
   "name": "python",
   "nbconvert_exporter": "python",
   "pygments_lexer": "ipython3",
   "version": "3.11.5"
  }
 },
 "nbformat": 4,
 "nbformat_minor": 2
}
